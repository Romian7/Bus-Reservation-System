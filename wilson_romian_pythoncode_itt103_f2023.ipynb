{
  "cells": [
    {
      "cell_type": "code",
      "source": [
        "# Author : Romian Wilson\n",
        "# Date Created : December 9, 2023\n",
        "# Course : ITT103\n",
        "# Purpose : Bus booking system for trip reservations in various categories."
      ],
      "metadata": {
        "id": "qk8MElXWzBnZ"
      },
      "execution_count": null,
      "outputs": []
    },
    {
      "cell_type": "code",
      "execution_count": null,
      "metadata": {
        "colab": {
          "background_save": true,
          "base_uri": "https://localhost:8080/"
        },
        "id": "RiouApYtebKB",
        "outputId": "92078097-6199-4f5f-9abf-dbe02251d44d"
      },
      "outputs": [
        {
          "name": "stdout",
          "output_type": "stream",
          "text": [
            "UCC Signature Express Limited\n",
            "Comfort While You Travel\n",
            "Reservation Options:\n",
            "First Class (F/f)\n",
            "Business Class (B/b)\n",
            "Economy Class (E/e)\n",
            "Quit or Cancel (Q/q)\n",
            "Please select an option:\n",
            "Select Row Between 28 to 65\n"
          ]
        }
      ],
      "source": [
        "# Declare a variable for seat specifications\n",
        "seats = [[0] * 2 for _ in range(122)]\n",
        "\n",
        "# Declare user choice, row, and seatCount\n",
        "userChoice = \"\"\n",
        "row = 0\n",
        "seatCount = 0\n",
        "\n",
        "# Function to display different classifications of seats\n",
        "def print_options():\n",
        "    print(\"UCC Signature Express Limited\\nComfort While You Travel\\nReservation Options:\")\n",
        "    print(\"First Class (F/f)\\nBusiness Class (B/b)\\nEconomy Class (E/e)\\nQuit or Cancel (Q/q)\")\n",
        "    print(\"Please select an option:\")\n",
        "\n",
        "# Function to check if the seat is already reserved and assign a seat if not\n",
        "def assign_seat(row):\n",
        "    global seatCount\n",
        "    print(\"Do you want to reserve a window seat?\\nYes - y\\nNo - n\")\n",
        "    option = input().lower()\n",
        "\n",
        "    # Separate logic for column 0 and column 1\n",
        "    if option == \"y\":\n",
        "        if not seats[row][1]:\n",
        "            seats[row][1] = row + row\n",
        "            print(f\"Reserving seat: row {row}, column {row + 1}\")\n",
        "            seatCount += 1\n",
        "        else:\n",
        "            print(\"This seat is already reserved!\")\n",
        "    else:\n",
        "        if not seats[row][0]:\n",
        "            seats[row][0] = row\n",
        "            print(f\"Reserving seat: row {row}, column 0\")\n",
        "            seatCount += 1\n",
        "        else:\n",
        "            print(\"This seat is already reserved!\")\n",
        "\n",
        "# Function to ensure the user selects the correct row for the seat classification\n",
        "def check_row(classification, row_num):\n",
        "    if row_num > 0:\n",
        "        if classification == \"f\" and 1 <= row_num <= 27:\n",
        "            return True\n",
        "        elif classification == \"b\" and 28 <= row_num <= 65:\n",
        "            return True\n",
        "        elif classification == \"e\" and 66 <= row_num <= 121:\n",
        "            return True\n",
        "        else:\n",
        "            print(\"Invalid row number for the chosen class!\")\n",
        "    else:\n",
        "        print(\"Number must be positive and greater than zero!\")\n",
        "    return False\n",
        "\n",
        "# Function to print the seating option and allow the user to select\n",
        "def select_seat():\n",
        "    global userChoice, row\n",
        "    userChoice = input().lower()\n",
        "    if userChoice in [\"f\", \"b\", \"e\"]:\n",
        "        print(f\"Select Row Between {1 if userChoice == 'f' else 28 if userChoice == 'b' else 66} to {27 if userChoice == 'f' else 65 if userChoice == 'b' else 121}\")\n",
        "        row = int(input())\n",
        "        if check_row(userChoice, row):\n",
        "            assign_seat(row)\n",
        "    else:\n",
        "        print(\"Invalid choice!\")\n",
        "\n",
        "# Main function that controls the flow of the program\n",
        "def init():\n",
        "    global userChoice, seatCount\n",
        "    userChoice = None\n",
        "    while userChoice != \"q\":\n",
        "        print_options()\n",
        "        if userChoice != \"q\":\n",
        "            select_seat()\n",
        "        if seatCount > 120:\n",
        "            print(\"No more available seats!\")\n",
        "\n",
        "# First function to execute when the program begins\n",
        "init()"
      ]
    }
  ],
  "metadata": {
    "colab": {
      "provenance": [],
      "authorship_tag": "ABX9TyMLqRCtiKhlwET2s6o9wc/e"
    },
    "kernelspec": {
      "display_name": "Python 3",
      "name": "python3"
    },
    "language_info": {
      "name": "python"
    }
  },
  "nbformat": 4,
  "nbformat_minor": 0
}